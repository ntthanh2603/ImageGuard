{
  "nbformat": 4,
  "nbformat_minor": 0,
  "metadata": {
    "colab": {
      "provenance": [],
      "gpuType": "T4"
    },
    "kernelspec": {
      "name": "python3",
      "display_name": "Python 3"
    },
    "language_info": {
      "name": "python"
    },
    "accelerator": "GPU"
  },
  "cells": [
    {
      "cell_type": "markdown",
      "source": [
        "# Create dataloader"
      ],
      "metadata": {
        "id": "smG4o6zsfzNe"
      }
    },
    {
      "cell_type": "code",
      "source": [
        "from google.colab import drive\n",
        "drive.mount('/content/drive')"
      ],
      "metadata": {
        "colab": {
          "base_uri": "https://localhost:8080/"
        },
        "id": "Vud7q1NOid8G",
        "outputId": "7e8c926a-b29b-4433-8430-ceee7bc325dd"
      },
      "execution_count": null,
      "outputs": [
        {
          "output_type": "stream",
          "name": "stdout",
          "text": [
            "Mounted at /content/drive\n"
          ]
        }
      ]
    },
    {
      "cell_type": "code",
      "source": [
        "import os\n",
        "from PIL import Image\n",
        "from torch.utils.data import Dataset, DataLoader\n",
        "import torchvision.transforms as transforms\n",
        "\n",
        "class ClassificationDataset(Dataset):\n",
        "    def __init__(self, root_dir, transform=None):\n",
        "        self.image_dir = os.path.join(root_dir, \"images\")\n",
        "        self.label_dir = os.path.join(root_dir, \"labels\")\n",
        "        self.image_files = [f for f in os.listdir(self.image_dir) if f.endswith(('.jpg', '.png', '.jpeg'))]\n",
        "        self.transform = transform\n",
        "\n",
        "    def __len__(self):\n",
        "        return len(self.image_files)\n",
        "\n",
        "    def __getitem__(self, idx):\n",
        "        # Lấy đường dẫn file ảnh và label\n",
        "        image_name = self.image_files[idx]\n",
        "        image_path = os.path.join(self.image_dir, image_name)\n",
        "        label_path = os.path.join(self.label_dir, os.path.splitext(image_name)[0] + '.txt')\n",
        "\n",
        "        # Đọc ảnh\n",
        "        image = Image.open(image_path).convert(\"RGB\")\n",
        "        if self.transform:\n",
        "            image = self.transform(image)\n",
        "\n",
        "        # Đọc label (chỉ lấy class của dòng đầu tiên)\n",
        "        with open(label_path, 'r') as f:\n",
        "            first_line = f.readline().strip()\n",
        "            class_id = int(first_line.split()[0])  # lấy class ở đầu dòng\n",
        "\n",
        "        return image, torch.tensor(class_id, dtype=torch.long)"
      ],
      "metadata": {
        "id": "xqwLnYxGZYPz"
      },
      "execution_count": null,
      "outputs": []
    },
    {
      "cell_type": "code",
      "source": [
        "transform = transforms.Compose([\n",
        "    transforms.Resize((224, 224)),\n",
        "    transforms.ToTensor()\n",
        "])\n",
        "\n",
        "# Tạo dataset và dataloader\n",
        "trainset = ClassificationDataset(root_dir='/content/drive/MyDrive/ImageGuard/dataset/train', transform=transform)\n",
        "trainloader = DataLoader(trainset, batch_size=32, shuffle=True)\n",
        "\n",
        "testset = ClassificationDataset(root_dir='/content/drive/MyDrive/ImageGuard/dataset/test', transform=transform)\n",
        "testloader = DataLoader(testset, batch_size=32, shuffle=False)"
      ],
      "metadata": {
        "id": "sVgjTywui1Rk"
      },
      "execution_count": null,
      "outputs": []
    },
    {
      "cell_type": "markdown",
      "source": [
        "#ResNet 34"
      ],
      "metadata": {
        "id": "o618vo0-h_YW"
      }
    },
    {
      "cell_type": "code",
      "source": [
        "import torch\n",
        "import torch.nn as nn\n",
        "import torch.nn.functional as F\n",
        "import torch.optim as optim\n",
        "import matplotlib.pyplot as plt"
      ],
      "metadata": {
        "id": "snSm5aNWiLoD"
      },
      "execution_count": null,
      "outputs": []
    },
    {
      "cell_type": "code",
      "source": [
        "class BuildingBlock(nn.Module):\n",
        "  def __init__(self, in_channels, out_channels, stride=1):\n",
        "    super(BuildingBlock, self).__init__()\n",
        "\n",
        "    self.conv1 = nn.Conv2d(in_channels, out_channels, kernel_size=3, stride=stride, padding=1, bias=False)\n",
        "    self.bn1 = nn.BatchNorm2d(out_channels)\n",
        "    self.relu = nn.ReLU(inplace=True)\n",
        "\n",
        "    self.conv2 = nn.Conv2d(out_channels, out_channels, kernel_size=3, stride=1, padding=1, bias=False)\n",
        "    self.bn2 = nn.BatchNorm2d(out_channels)\n",
        "\n",
        "    self.shortcut = nn.Identity()\n",
        "    if stride != 1 or in_channels != out_channels:\n",
        "      self.shortcut = nn.Sequential(\n",
        "          nn.Conv2d(in_channels, out_channels, kernel_size=1, stride=stride, padding=0, bias=False),\n",
        "          nn.BatchNorm2d(out_channels)\n",
        "      )\n",
        "\n",
        "  def forward(self, x):\n",
        "    identity = self.shortcut(x)\n",
        "    x = self.conv1(x) #W1 * x\n",
        "    x = self.bn1(x)\n",
        "    x = self.relu(x) #sigma(W1 * x)\n",
        "\n",
        "    x = self.conv2(x) #W2 * sigma(W1 * x) = F(x)\n",
        "    x = self.bn2(x)\n",
        "    x += identity # F(x) + x\n",
        "    x = self.relu(x) #sigma(F(x) + x)\n",
        "    return x"
      ],
      "metadata": {
        "id": "uld4LE7Rh4rI"
      },
      "execution_count": null,
      "outputs": []
    },
    {
      "cell_type": "code",
      "source": [
        "class ResNet34(nn.Module):\n",
        "  def __init__(self, in_channels, out_channels):\n",
        "    super(ResNet34, self).__init__()\n",
        "\n",
        "    self.conv = nn.Conv2d(in_channels=in_channels, out_channels=64, kernel_size=7, stride=2, padding=3, bias=False)\n",
        "    self.bn = nn.BatchNorm2d(64)\n",
        "    self.relu = nn.ReLU(inplace=True)\n",
        "    self.maxpool = nn.MaxPool2d(kernel_size=3, stride=2, padding=1)\n",
        "\n",
        "    self.layer1 = self._make_layer(64, 64, num_blocks=3)\n",
        "    self.layer2 = self._make_layer(64, 128, num_blocks=4, stride=2)\n",
        "    self.layer3 = self._make_layer(128, 256, num_blocks=6, stride=2)\n",
        "    self.layer4 = self._make_layer(256, 512, num_blocks=3, stride=2)\n",
        "\n",
        "    self.avgpool = nn.AdaptiveAvgPool2d((1, 1))\n",
        "    self.fc = nn.Linear(512, out_channels)\n",
        "\n",
        "  def _make_layer(self, in_channels, out_channels, num_blocks, stride=1):\n",
        "    layers = []\n",
        "    layers.append(BuildingBlock(in_channels, out_channels, stride=stride))\n",
        "    for _ in range(1, num_blocks):\n",
        "      layers.append(BuildingBlock(out_channels, out_channels, stride=1))\n",
        "    return nn.Sequential(*layers)\n",
        "\n",
        "  def forward(self, x):\n",
        "    x = self.conv(x)\n",
        "    x = self.bn(x)\n",
        "    x = self.relu(x)\n",
        "    x = self.maxpool(x)\n",
        "\n",
        "    x = self.layer1(x)\n",
        "    x = self.layer2(x)\n",
        "    x = self.layer3(x)\n",
        "    x = self.layer4(x)\n",
        "\n",
        "    x= self.avgpool(x)\n",
        "    x = torch.flatten(x, 1)\n",
        "    output = self.fc(x)\n",
        "    return output"
      ],
      "metadata": {
        "id": "8RW8O4-fiHmc"
      },
      "execution_count": null,
      "outputs": []
    },
    {
      "cell_type": "code",
      "source": [
        "device = torch.device(\"cuda\" if torch.cuda.is_available() else \"cpu\")\n",
        "model = ResNet34(in_channels=3, out_channels=3).to(device)"
      ],
      "metadata": {
        "id": "wza-43kyiYfw"
      },
      "execution_count": null,
      "outputs": []
    },
    {
      "cell_type": "code",
      "source": [
        "criterion = nn.CrossEntropyLoss()\n",
        "optimizer = optim.SGD(model.parameters(), lr=0.1, momentum=0.9, weight_decay=1e-4)\n",
        "scheduler = optim.lr_scheduler.MultiStepLR(optimizer, milestones=[30, 60, 90], gamma=0.1)"
      ],
      "metadata": {
        "id": "Qim1RgNJiq2y"
      },
      "execution_count": null,
      "outputs": []
    },
    {
      "cell_type": "code",
      "source": [
        "num_epochs = 100\n",
        "train_losses = []\n",
        "\n",
        "for epoch in range(num_epochs):\n",
        "    model.train()\n",
        "    running_loss = 0.0\n",
        "\n",
        "    for images, original_labels in trainloader:\n",
        "        images = images.to(device)\n",
        "        original_labels = original_labels.to(device)\n",
        "\n",
        "        optimizer.zero_grad()\n",
        "        outputs = model(images)\n",
        "        loss = criterion(outputs, original_labels)\n",
        "        loss.backward()\n",
        "        optimizer.step()\n",
        "\n",
        "        running_loss += loss.item()\n",
        "\n",
        "    avg_loss = running_loss / len(trainloader)\n",
        "    train_losses.append(avg_loss)\n",
        "\n",
        "    scheduler.step()\n",
        "\n",
        "    current_lr = optimizer.param_groups[0]['lr']\n",
        "    print(f\"Epoch [{epoch+1}/{num_epochs}], Loss: {avg_loss:.4f}, LR: {current_lr:.6f}\")\n",
        "\n",
        "plt.plot(train_losses, label=\"Train Loss\")\n",
        "plt.xlabel(\"Epoch\")\n",
        "plt.ylabel(\"Loss\")\n",
        "plt.legend()\n",
        "plt.show()"
      ],
      "metadata": {
        "colab": {
          "base_uri": "https://localhost:8080/",
          "height": 1000
        },
        "id": "3V5hixOsiuCl",
        "outputId": "57323fb1-6bc2-4b1a-fba9-cb1f35c04ab4"
      },
      "execution_count": null,
      "outputs": [
        {
          "output_type": "stream",
          "name": "stdout",
          "text": [
            "Epoch [1/100], Loss: 4.4100, LR: 0.100000\n",
            "Epoch [2/100], Loss: 1.0459, LR: 0.100000\n",
            "Epoch [3/100], Loss: 0.9719, LR: 0.100000\n",
            "Epoch [4/100], Loss: 0.9697, LR: 0.100000\n",
            "Epoch [5/100], Loss: 0.9573, LR: 0.100000\n",
            "Epoch [6/100], Loss: 0.9761, LR: 0.100000\n",
            "Epoch [7/100], Loss: 0.9903, LR: 0.100000\n",
            "Epoch [8/100], Loss: 0.9125, LR: 0.100000\n",
            "Epoch [9/100], Loss: 0.8897, LR: 0.100000\n",
            "Epoch [10/100], Loss: 0.8225, LR: 0.100000\n",
            "Epoch [11/100], Loss: 0.8477, LR: 0.100000\n",
            "Epoch [12/100], Loss: 0.8259, LR: 0.100000\n",
            "Epoch [13/100], Loss: 0.7674, LR: 0.100000\n",
            "Epoch [14/100], Loss: 0.7283, LR: 0.100000\n",
            "Epoch [15/100], Loss: 0.7468, LR: 0.100000\n",
            "Epoch [16/100], Loss: 0.7416, LR: 0.100000\n",
            "Epoch [17/100], Loss: 0.7122, LR: 0.100000\n",
            "Epoch [18/100], Loss: 0.7116, LR: 0.100000\n",
            "Epoch [19/100], Loss: 0.6830, LR: 0.100000\n",
            "Epoch [20/100], Loss: 0.6807, LR: 0.100000\n",
            "Epoch [21/100], Loss: 0.6537, LR: 0.100000\n",
            "Epoch [22/100], Loss: 0.6454, LR: 0.100000\n",
            "Epoch [23/100], Loss: 0.6813, LR: 0.100000\n",
            "Epoch [24/100], Loss: 0.6298, LR: 0.100000\n",
            "Epoch [25/100], Loss: 0.6038, LR: 0.100000\n",
            "Epoch [26/100], Loss: 0.6304, LR: 0.100000\n",
            "Epoch [27/100], Loss: 0.6260, LR: 0.100000\n",
            "Epoch [28/100], Loss: 0.5835, LR: 0.100000\n",
            "Epoch [29/100], Loss: 0.5960, LR: 0.100000\n",
            "Epoch [30/100], Loss: 0.6011, LR: 0.010000\n",
            "Epoch [31/100], Loss: 0.5779, LR: 0.010000\n",
            "Epoch [32/100], Loss: 0.5118, LR: 0.010000\n",
            "Epoch [33/100], Loss: 0.5238, LR: 0.010000\n",
            "Epoch [34/100], Loss: 0.5164, LR: 0.010000\n",
            "Epoch [35/100], Loss: 0.5234, LR: 0.010000\n",
            "Epoch [36/100], Loss: 0.5077, LR: 0.010000\n",
            "Epoch [37/100], Loss: 0.5082, LR: 0.010000\n",
            "Epoch [38/100], Loss: 0.4937, LR: 0.010000\n",
            "Epoch [39/100], Loss: 0.5142, LR: 0.010000\n",
            "Epoch [40/100], Loss: 0.5169, LR: 0.010000\n",
            "Epoch [41/100], Loss: 0.4839, LR: 0.010000\n",
            "Epoch [42/100], Loss: 0.5099, LR: 0.010000\n",
            "Epoch [43/100], Loss: 0.4940, LR: 0.010000\n",
            "Epoch [44/100], Loss: 0.5023, LR: 0.010000\n",
            "Epoch [45/100], Loss: 0.4827, LR: 0.010000\n",
            "Epoch [46/100], Loss: 0.4994, LR: 0.010000\n",
            "Epoch [47/100], Loss: 0.5187, LR: 0.010000\n",
            "Epoch [48/100], Loss: 0.4803, LR: 0.010000\n",
            "Epoch [49/100], Loss: 0.4584, LR: 0.010000\n",
            "Epoch [50/100], Loss: 0.4928, LR: 0.010000\n",
            "Epoch [51/100], Loss: 0.4602, LR: 0.010000\n",
            "Epoch [52/100], Loss: 0.4702, LR: 0.010000\n",
            "Epoch [53/100], Loss: 0.4585, LR: 0.010000\n",
            "Epoch [54/100], Loss: 0.4657, LR: 0.010000\n",
            "Epoch [55/100], Loss: 0.4926, LR: 0.010000\n",
            "Epoch [56/100], Loss: 0.4900, LR: 0.010000\n",
            "Epoch [57/100], Loss: 0.4764, LR: 0.010000\n",
            "Epoch [58/100], Loss: 0.4693, LR: 0.010000\n",
            "Epoch [59/100], Loss: 0.4873, LR: 0.010000\n",
            "Epoch [60/100], Loss: 0.4750, LR: 0.001000\n",
            "Epoch [61/100], Loss: 0.4456, LR: 0.001000\n",
            "Epoch [62/100], Loss: 0.4332, LR: 0.001000\n",
            "Epoch [63/100], Loss: 0.4369, LR: 0.001000\n",
            "Epoch [64/100], Loss: 0.4254, LR: 0.001000\n",
            "Epoch [65/100], Loss: 0.4388, LR: 0.001000\n",
            "Epoch [66/100], Loss: 0.4350, LR: 0.001000\n",
            "Epoch [67/100], Loss: 0.4394, LR: 0.001000\n",
            "Epoch [68/100], Loss: 0.4339, LR: 0.001000\n",
            "Epoch [69/100], Loss: 0.4379, LR: 0.001000\n",
            "Epoch [70/100], Loss: 0.4377, LR: 0.001000\n",
            "Epoch [71/100], Loss: 0.4442, LR: 0.001000\n",
            "Epoch [72/100], Loss: 0.4455, LR: 0.001000\n",
            "Epoch [73/100], Loss: 0.4099, LR: 0.001000\n",
            "Epoch [74/100], Loss: 0.4359, LR: 0.001000\n",
            "Epoch [75/100], Loss: 0.4424, LR: 0.001000\n",
            "Epoch [76/100], Loss: 0.4414, LR: 0.001000\n",
            "Epoch [77/100], Loss: 0.4522, LR: 0.001000\n",
            "Epoch [78/100], Loss: 0.4074, LR: 0.001000\n",
            "Epoch [79/100], Loss: 0.4418, LR: 0.001000\n",
            "Epoch [80/100], Loss: 0.4281, LR: 0.001000\n",
            "Epoch [81/100], Loss: 0.4539, LR: 0.001000\n",
            "Epoch [82/100], Loss: 0.4182, LR: 0.001000\n",
            "Epoch [83/100], Loss: 0.4055, LR: 0.001000\n",
            "Epoch [84/100], Loss: 0.4285, LR: 0.001000\n",
            "Epoch [85/100], Loss: 0.4307, LR: 0.001000\n",
            "Epoch [86/100], Loss: 0.4439, LR: 0.001000\n",
            "Epoch [87/100], Loss: 0.4410, LR: 0.001000\n",
            "Epoch [88/100], Loss: 0.4248, LR: 0.001000\n",
            "Epoch [89/100], Loss: 0.4302, LR: 0.001000\n",
            "Epoch [90/100], Loss: 0.4384, LR: 0.000100\n",
            "Epoch [91/100], Loss: 0.3950, LR: 0.000100\n",
            "Epoch [92/100], Loss: 0.4193, LR: 0.000100\n",
            "Epoch [93/100], Loss: 0.4230, LR: 0.000100\n",
            "Epoch [94/100], Loss: 0.4130, LR: 0.000100\n",
            "Epoch [95/100], Loss: 0.4233, LR: 0.000100\n",
            "Epoch [96/100], Loss: 0.4316, LR: 0.000100\n",
            "Epoch [97/100], Loss: 0.4131, LR: 0.000100\n",
            "Epoch [98/100], Loss: 0.4277, LR: 0.000100\n",
            "Epoch [99/100], Loss: 0.4103, LR: 0.000100\n",
            "Epoch [100/100], Loss: 0.4341, LR: 0.000100\n"
          ]
        },
        {
          "output_type": "display_data",
          "data": {
            "text/plain": [
              "<Figure size 640x480 with 1 Axes>"
            ],
            "image/png": "[encoded data removed]"
          },
          "metadata": {}
        }
      ]
    },
    {
      "cell_type": "code",
      "source": [
        "model.eval()\n",
        "correct, total = 0, 0\n",
        "\n",
        "with torch.no_grad():\n",
        "    for images, original_labels in testloader:\n",
        "        images = images.to(device)\n",
        "        original_labels = original_labels.to(device)\n",
        "\n",
        "        outputs = model(images)\n",
        "        _, predicted = torch.max(outputs, 1)\n",
        "        total += original_labels.size(0)\n",
        "        correct += (predicted == original_labels).sum().item()\n",
        "\n",
        "accuracy = 100 * correct / total\n",
        "print(f\"Accuracy on test set: {accuracy:.2f}%\")"
      ],
      "metadata": {
        "id": "ogt0n0zPjopD",
        "colab": {
          "base_uri": "https://localhost:8080/"
        },
        "outputId": "0f7ed7f4-b66c-4aa0-984c-4af99e73e212"
      },
      "execution_count": null,
      "outputs": [
        {
          "output_type": "stream",
          "name": "stdout",
          "text": [
            "Accuracy on test set: 80.74%\n"
          ]
        }
      ]
    },
    {
      "cell_type": "code",
      "source": [
        "image, label = testset[0]\n",
        "image = image.unsqueeze(0).to(device)\n",
        "\n",
        "model.eval()\n",
        "with torch.no_grad():\n",
        "    output = model(image)\n",
        "    _, predicted = torch.max(output, 1)"
      ],
      "metadata": {
        "id": "ob2WAj9skEsn"
      },
      "execution_count": null,
      "outputs": []
    },
    {
      "cell_type": "code",
      "source": [
        "torch.save(model.state_dict(), \"resnet34.pth\")"
      ],
      "metadata": {
        "id": "Iv-xoDv1p86a"
      },
      "execution_count": null,
      "outputs": []
    },
    {
      "cell_type": "markdown",
      "source": [
        "# Vision Transformer"
      ],
      "metadata": {
        "id": "J0-ynZc2iuFs"
      }
    },
    {
      "cell_type": "code",
      "source": [
        "class PatchEmbedding(nn.Module):\n",
        "  def __init__(self, img_size=224, in_channels=3, patch_size=16, hidden_dim=768):\n",
        "    super(PatchEmbedding, self).__init__()\n",
        "    \"\"\"\n",
        "    H, W: 224\n",
        "    C: 3\n",
        "    P: 16\n",
        "    D: 768\n",
        "    \"\"\"\n",
        "    self.img_size = img_size\n",
        "    self.in_channels = in_channels\n",
        "    self.patch_size = patch_size\n",
        "    self.hidden_dim = hidden_dim\n",
        "    #Number of patches\n",
        "    self.num_patches = (self.img_size * self.img_size) // (self.patch_size * self.patch_size)\n",
        "\n",
        "    #x_class\n",
        "    self.class_embedding = nn.Parameter(torch.randn(1, 1, self.hidden_dim)) #(1, 1, D)\n",
        "\n",
        "    #Linear projection (E)\n",
        "    self.projection = nn.Linear(self.patch_size * self.patch_size * self.in_channels, self.hidden_dim) #(P^2 * C, D)\n",
        "\n",
        "    #Pos_embedding (E_pos)\n",
        "    self.pos_embedding = nn.Parameter(torch.randn(1, self.num_patches + 1, self.hidden_dim)) #(1, N+1, D)\n",
        "\n",
        "  def forward(self, x):\n",
        "    #Chia ảnh thành các patches\n",
        "    B, C, H, W = x.shape\n",
        "    x = x.unfold(2, self.patch_size, self.patch_size) #(B, C, Num_patches_H, P, W)\n",
        "    x = x.unfold(3, self.patch_size, self.patch_size) #(B, C, Num_patches_H, Num_patches_W, P, P)\n",
        "    x = x.permute(0, 2, 3, 1, 4, 5).contiguous() #(B, Num_patches_H, Num_patches_W, C, P, P)\n",
        "    x = x.view(B, self.num_patches, -1) #(B, N, P*2 \\times C)\n",
        "\n",
        "    #Ánh xạ vào không gian embedding\n",
        "    x = self.projection(x) #(B, N, D)\n",
        "\n",
        "    #Expand để class token có cùng chiều với projection\n",
        "    class_token = self.class_embedding.expand(B, -1, -1) #(B, 1, D)\n",
        "\n",
        "    #Ghép class token vào đầu chuỗi patches\n",
        "    x = torch.cat([class_token, x], dim=1) #(B, N+1, D)\n",
        "\n",
        "    #Cộng với E_pos -> z_0\n",
        "    x = x + self.pos_embedding #(B, N+1, D)\n",
        "\n",
        "    return x #encoded_value"
      ],
      "metadata": {
        "id": "Sq5F8XK1i3R8"
      },
      "execution_count": null,
      "outputs": []
    },
    {
      "cell_type": "code",
      "source": [
        "class MultiHeadSelfAttention(nn.Module):\n",
        "  def __init__(self, hidden_dim=768, heads=12):\n",
        "    super(MultiHeadSelfAttention, self).__init__()\n",
        "    self.hidden_dim = hidden_dim\n",
        "    self.heads = heads\n",
        "    self.head_dim = hidden_dim // heads\n",
        "\n",
        "    #Khởi tạo trọng số cho query, key, value\n",
        "    self.W_Q = nn.Linear(self.hidden_dim, self.hidden_dim)\n",
        "    self.W_K = nn.Linear(self.hidden_dim, self.hidden_dim)\n",
        "    self.W_V = nn.Linear(self.hidden_dim, self.hidden_dim)\n",
        "\n",
        "    self.softmax = nn.Softmax(dim=-1)\n",
        "    self.output = nn.Linear(self.hidden_dim, self.hidden_dim) #Kết hợp đầu ra của các heads\n",
        "\n",
        "  def forward(self, x):\n",
        "    #x: encoded_value có kích thước là (B, N+1, D)\n",
        "    B, N, D = x.shape #Batch_size, Số tokens, hidden_dim #(B, N+1, D theo N ban đầu)\n",
        "\n",
        "    #Tính query, key, value\n",
        "    q = self.W_Q(x).view(B, N, self.heads, self.head_dim).transpose(1, 2)\n",
        "    k = self.W_K(x).view(B, N, self.heads, self.head_dim).transpose(1, 2)\n",
        "    v = self.W_V(x).view(B, N, self.heads, self.head_dim).transpose(1, 2)\n",
        "\n",
        "    #Tính attention score\n",
        "    unscaled_dot_product_similarities = torch.matmul(q, k.transpose(-1, -2)) #QK^T\n",
        "    scaled_dot_product_similarities = unscaled_dot_product_similarities / (self.head_dim ** 0.5) #QK^T / sqrt(d_k)\n",
        "    attention_weights = self.softmax(scaled_dot_product_similarities) #softmax(QK^T / sqrt(d_k))\n",
        "    attention_score = torch.matmul(attention_weights, v) #softmax(QK^T / sqrt(d_k))V\n",
        "\n",
        "    #Gộp các đầu SA lại với nhau\n",
        "    output = attention_score.transpose(1, 2).contiguous().view(B, N, D)\n",
        "\n",
        "    #Ánh xạ lại không gian embedding\n",
        "    output = self.output(output)\n",
        "\n",
        "    return output"
      ],
      "metadata": {
        "id": "uJMJeGa_j-jG"
      },
      "execution_count": null,
      "outputs": []
    },
    {
      "cell_type": "code",
      "source": [
        "class TransformerEncoder(nn.Module):\n",
        "  def __init__(self, img_size=224, layers=12, patch_size=16, in_channels=3, hidden_dim=768, heads=12, mlp_size=3072):\n",
        "    super(TransformerEncoder, self).__init__()\n",
        "    self.hidden_dim = hidden_dim #D=768\n",
        "    self.in_channels = in_channels #C=3\n",
        "    self.heads = heads\n",
        "    self.layers = layers\n",
        "    self.mlp_size = mlp_size\n",
        "    self.img_size = img_size\n",
        "    self.patch_size = patch_size\n",
        "    self.embedded_patches = PatchEmbedding(img_size=self.img_size, patch_size=self.patch_size, in_channels=self.in_channels, hidden_dim=self.hidden_dim)\n",
        "\n",
        "    #Khởi tạo khối transformer\n",
        "    self.transformer_blocks = nn.ModuleList([\n",
        "        nn.ModuleList([\n",
        "            nn.LayerNorm(self.hidden_dim),\n",
        "            MultiHeadSelfAttention(hidden_dim=self.hidden_dim, heads=self.heads),\n",
        "            nn.LayerNorm(self.hidden_dim),\n",
        "            nn.Sequential(\n",
        "                nn.Linear(self.hidden_dim, self.mlp_size),\n",
        "                nn.GELU(),\n",
        "                nn.Dropout(0.1),\n",
        "                nn.Linear(self.mlp_size, self.hidden_dim),\n",
        "                nn.Dropout(0.1)\n",
        "            )\n",
        "        ]) for _ in range(self.layers)\n",
        "      ])\n",
        "\n",
        "  def forward(self, x):\n",
        "    x = self.embedded_patches(x)\n",
        "    for norm1, msa, norm2, mlp in self.transformer_blocks:\n",
        "      x = x + msa(norm1(x))\n",
        "      x = x + mlp(norm2(x))\n",
        "    return x"
      ],
      "metadata": {
        "id": "ZlFvAxLPkAKr"
      },
      "execution_count": null,
      "outputs": []
    },
    {
      "cell_type": "code",
      "source": [
        "class MLPHead(nn.Module):\n",
        "  def __init__(self, hidden_dim=768, num_classes=1000):\n",
        "    super(MLPHead, self).__init__()\n",
        "    self.hidden_dim = hidden_dim\n",
        "    self.num_classes = num_classes\n",
        "    self.norm = nn.LayerNorm(self.hidden_dim)\n",
        "    self.fc = nn.Linear(self.hidden_dim, self.num_classes)\n",
        "\n",
        "  def forward(self, x):\n",
        "    #Lấy ra x_class từ đầu ra của encoder\n",
        "    class_token = x[:, 0, :]\n",
        "    class_token = self.norm(class_token)\n",
        "    output = self.fc(class_token)\n",
        "\n",
        "    return output"
      ],
      "metadata": {
        "id": "97WrH_M4kClj"
      },
      "execution_count": null,
      "outputs": []
    },
    {
      "cell_type": "code",
      "source": [
        "class VisionTransformer(nn.Module):\n",
        "  def __init__(self, hidden_dim=768, layers=12, heads=12, mlp_size=3072, in_channels=3, num_classes=1000, img_size=224, patch_size=16):\n",
        "    super(VisionTransformer, self).__init__()\n",
        "    self.encoder = TransformerEncoder(\n",
        "        img_size=img_size,\n",
        "        patch_size=patch_size,\n",
        "        in_channels=in_channels,\n",
        "        hidden_dim=hidden_dim,\n",
        "        layers=layers,\n",
        "        heads=heads,\n",
        "        mlp_size=mlp_size\n",
        "    )\n",
        "    self.mlp_head = MLPHead(hidden_dim=hidden_dim, num_classes=num_classes)\n",
        "\n",
        "  def forward(self, x):\n",
        "    x = self.encoder(x)\n",
        "    output = self.mlp_head(x)\n",
        "\n",
        "    return output"
      ],
      "metadata": {
        "id": "nkWdBkl5kEMX"
      },
      "execution_count": null,
      "outputs": []
    },
    {
      "cell_type": "code",
      "source": [
        "device = torch.device(\"cuda\" if torch.cuda.is_available() else \"cpu\")\n",
        "model = VisionTransformer(\n",
        "    in_channels=3,\n",
        "    num_classes=3\n",
        "    ).to(device)"
      ],
      "metadata": {
        "id": "EJabhF96kHez"
      },
      "execution_count": null,
      "outputs": []
    },
    {
      "cell_type": "code",
      "source": [
        "criterion = nn.CrossEntropyLoss()\n",
        "optimizer = optim.Adam(model.parameters(), lr=1e-05)"
      ],
      "metadata": {
        "id": "6eYQkyzokUp6"
      },
      "execution_count": null,
      "outputs": []
    },
    {
      "cell_type": "code",
      "source": [
        "num_epochs = 100\n",
        "train_losses = []\n",
        "\n",
        "for epoch in range(num_epochs):\n",
        "    model.train()\n",
        "    running_loss = 0.0\n",
        "\n",
        "    for images, labels in trainloader:\n",
        "        images, labels = images.to(device), labels.to(device)\n",
        "\n",
        "        optimizer.zero_grad()\n",
        "        outputs = model(images)\n",
        "        loss = criterion(outputs, labels)\n",
        "        loss.backward()\n",
        "        optimizer.step()\n",
        "\n",
        "        running_loss += loss.item()\n",
        "\n",
        "    avg_loss = running_loss / len(trainloader)\n",
        "    train_losses.append(avg_loss)\n",
        "\n",
        "    current_lr = optimizer.param_groups[0]['lr']\n",
        "    print(f\"Epoch [{epoch+1}/{num_epochs}], Loss: {avg_loss:.4f}, LR: {current_lr:.6f}\")\n",
        "\n",
        "plt.plot(train_losses, label=\"Train Loss\")\n",
        "plt.xlabel(\"Epoch\")\n",
        "plt.ylabel(\"Loss\")\n",
        "plt.legend()\n",
        "plt.show()"
      ],
      "metadata": {
        "id": "TW3yDY6pkWwP",
        "colab": {
          "base_uri": "https://localhost:8080/",
          "height": 1000
        },
        "outputId": "6ef3c49d-bf82-4d8b-8314-a9283721af92"
      },
      "execution_count": null,
      "outputs": [
        {
          "output_type": "stream",
          "name": "stdout",
          "text": [
            "Epoch [1/100], Loss: 1.0730, LR: 0.000010\n",
            "Epoch [2/100], Loss: 1.0003, LR: 0.000010\n",
            "Epoch [3/100], Loss: 0.9845, LR: 0.000010\n",
            "Epoch [4/100], Loss: 0.9692, LR: 0.000010\n",
            "Epoch [5/100], Loss: 0.9589, LR: 0.000010\n",
            "Epoch [6/100], Loss: 0.9690, LR: 0.000010\n",
            "Epoch [7/100], Loss: 0.9222, LR: 0.000010\n",
            "Epoch [8/100], Loss: 0.9021, LR: 0.000010\n",
            "Epoch [9/100], Loss: 0.8345, LR: 0.000010\n",
            "Epoch [10/100], Loss: 0.7731, LR: 0.000010\n",
            "Epoch [11/100], Loss: 0.7712, LR: 0.000010\n",
            "Epoch [12/100], Loss: 0.7367, LR: 0.000010\n",
            "Epoch [13/100], Loss: 0.6918, LR: 0.000010\n",
            "Epoch [14/100], Loss: 0.7166, LR: 0.000010\n",
            "Epoch [15/100], Loss: 0.6743, LR: 0.000010\n",
            "Epoch [16/100], Loss: 0.6521, LR: 0.000010\n",
            "Epoch [17/100], Loss: 0.6379, LR: 0.000010\n",
            "Epoch [18/100], Loss: 0.6538, LR: 0.000010\n",
            "Epoch [19/100], Loss: 0.6107, LR: 0.000010\n",
            "Epoch [20/100], Loss: 0.6090, LR: 0.000010\n",
            "Epoch [21/100], Loss: 0.5779, LR: 0.000010\n",
            "Epoch [22/100], Loss: 0.5686, LR: 0.000010\n",
            "Epoch [23/100], Loss: 0.5611, LR: 0.000010\n",
            "Epoch [24/100], Loss: 0.5373, LR: 0.000010\n",
            "Epoch [25/100], Loss: 0.5600, LR: 0.000010\n",
            "Epoch [26/100], Loss: 0.5105, LR: 0.000010\n",
            "Epoch [27/100], Loss: 0.4896, LR: 0.000010\n",
            "Epoch [28/100], Loss: 0.5051, LR: 0.000010\n",
            "Epoch [29/100], Loss: 0.4862, LR: 0.000010\n",
            "Epoch [30/100], Loss: 0.4420, LR: 0.000010\n",
            "Epoch [31/100], Loss: 0.4470, LR: 0.000010\n",
            "Epoch [32/100], Loss: 0.4318, LR: 0.000010\n",
            "Epoch [33/100], Loss: 0.4278, LR: 0.000010\n",
            "Epoch [34/100], Loss: 0.3954, LR: 0.000010\n",
            "Epoch [35/100], Loss: 0.3797, LR: 0.000010\n",
            "Epoch [36/100], Loss: 0.3853, LR: 0.000010\n",
            "Epoch [37/100], Loss: 0.3631, LR: 0.000010\n",
            "Epoch [38/100], Loss: 0.3092, LR: 0.000010\n",
            "Epoch [39/100], Loss: 0.2931, LR: 0.000010\n",
            "Epoch [40/100], Loss: 0.2509, LR: 0.000010\n",
            "Epoch [41/100], Loss: 0.2694, LR: 0.000010\n",
            "Epoch [42/100], Loss: 0.2479, LR: 0.000010\n",
            "Epoch [43/100], Loss: 0.2579, LR: 0.000010\n",
            "Epoch [44/100], Loss: 0.2093, LR: 0.000010\n",
            "Epoch [45/100], Loss: 0.1806, LR: 0.000010\n",
            "Epoch [46/100], Loss: 0.1580, LR: 0.000010\n",
            "Epoch [47/100], Loss: 0.1439, LR: 0.000010\n",
            "Epoch [48/100], Loss: 0.1905, LR: 0.000010\n",
            "Epoch [49/100], Loss: 0.2025, LR: 0.000010\n",
            "Epoch [50/100], Loss: 0.1368, LR: 0.000010\n",
            "Epoch [51/100], Loss: 0.1110, LR: 0.000010\n",
            "Epoch [52/100], Loss: 0.1264, LR: 0.000010\n",
            "Epoch [53/100], Loss: 0.1397, LR: 0.000010\n",
            "Epoch [54/100], Loss: 0.1126, LR: 0.000010\n",
            "Epoch [55/100], Loss: 0.0936, LR: 0.000010\n",
            "Epoch [56/100], Loss: 0.0655, LR: 0.000010\n",
            "Epoch [57/100], Loss: 0.0903, LR: 0.000010\n",
            "Epoch [58/100], Loss: 0.0886, LR: 0.000010\n",
            "Epoch [59/100], Loss: 0.0565, LR: 0.000010\n",
            "Epoch [60/100], Loss: 0.0554, LR: 0.000010\n",
            "Epoch [61/100], Loss: 0.0463, LR: 0.000010\n",
            "Epoch [62/100], Loss: 0.0325, LR: 0.000010\n",
            "Epoch [63/100], Loss: 0.0250, LR: 0.000010\n",
            "Epoch [64/100], Loss: 0.0245, LR: 0.000010\n",
            "Epoch [65/100], Loss: 0.0297, LR: 0.000010\n",
            "Epoch [66/100], Loss: 0.0316, LR: 0.000010\n",
            "Epoch [67/100], Loss: 0.0281, LR: 0.000010\n",
            "Epoch [68/100], Loss: 0.0296, LR: 0.000010\n",
            "Epoch [69/100], Loss: 0.0385, LR: 0.000010\n",
            "Epoch [70/100], Loss: 0.1075, LR: 0.000010\n",
            "Epoch [71/100], Loss: 0.0766, LR: 0.000010\n",
            "Epoch [72/100], Loss: 0.0819, LR: 0.000010\n",
            "Epoch [73/100], Loss: 0.0648, LR: 0.000010\n",
            "Epoch [74/100], Loss: 0.0429, LR: 0.000010\n",
            "Epoch [75/100], Loss: 0.0426, LR: 0.000010\n",
            "Epoch [76/100], Loss: 0.0179, LR: 0.000010\n",
            "Epoch [77/100], Loss: 0.0061, LR: 0.000010\n",
            "Epoch [78/100], Loss: 0.0034, LR: 0.000010\n",
            "Epoch [79/100], Loss: 0.0032, LR: 0.000010\n",
            "Epoch [80/100], Loss: 0.0017, LR: 0.000010\n",
            "Epoch [81/100], Loss: 0.0016, LR: 0.000010\n",
            "Epoch [82/100], Loss: 0.0018, LR: 0.000010\n",
            "Epoch [83/100], Loss: 0.0012, LR: 0.000010\n",
            "Epoch [84/100], Loss: 0.0012, LR: 0.000010\n",
            "Epoch [85/100], Loss: 0.0009, LR: 0.000010\n",
            "Epoch [86/100], Loss: 0.0008, LR: 0.000010\n",
            "Epoch [87/100], Loss: 0.0008, LR: 0.000010\n",
            "Epoch [88/100], Loss: 0.0009, LR: 0.000010\n",
            "Epoch [89/100], Loss: 0.0007, LR: 0.000010\n",
            "Epoch [90/100], Loss: 0.0006, LR: 0.000010\n",
            "Epoch [91/100], Loss: 0.0006, LR: 0.000010\n",
            "Epoch [92/100], Loss: 0.0005, LR: 0.000010\n",
            "Epoch [93/100], Loss: 0.0005, LR: 0.000010\n",
            "Epoch [94/100], Loss: 0.0004, LR: 0.000010\n",
            "Epoch [95/100], Loss: 0.0005, LR: 0.000010\n",
            "Epoch [96/100], Loss: 0.0005, LR: 0.000010\n",
            "Epoch [97/100], Loss: 0.0004, LR: 0.000010\n",
            "Epoch [98/100], Loss: 0.0005, LR: 0.000010\n",
            "Epoch [99/100], Loss: 0.0004, LR: 0.000010\n",
            "Epoch [100/100], Loss: 0.0004, LR: 0.000010\n"
          ]
        },
        {
          "output_type": "display_data",
          "data": {
            "text/plain": [
              "<Figure size 640x480 with 1 Axes>"
            ],
            "image/png": "[encoded data removed]"
          },
          "metadata": {}
        }
      ]
    },
    {
      "cell_type": "code",
      "source": [
        "model.eval()\n",
        "correct = 0\n",
        "total = 0\n",
        "\n",
        "with torch.no_grad():\n",
        "    for images, labels in testloader:\n",
        "        images, labels = images.to(device), labels.to(device)\n",
        "        outputs = model(images)\n",
        "        _, predicted = torch.max(outputs, 1)\n",
        "        total += labels.size(0)\n",
        "        correct += (predicted == labels).sum().item()\n",
        "\n",
        "accuracy = 100 * correct / total\n",
        "print(f\"Accuracy on MNIST test set: {accuracy:.2f}%\")"
      ],
      "metadata": {
        "id": "3meAr9TrkbV6",
        "colab": {
          "base_uri": "https://localhost:8080/"
        },
        "outputId": "22a186b4-b1ac-4951-fc34-574ba2954326"
      },
      "execution_count": null,
      "outputs": [
        {
          "output_type": "stream",
          "name": "stdout",
          "text": [
            "Accuracy on MNIST test set: 74.81%\n"
          ]
        }
      ]
    },
    {
      "cell_type": "code",
      "source": [
        "torch.save(model.state_dict(), \"/content/drive/MyDrive/ImageGuard/ViT.pth\")"
      ],
      "metadata": {
        "id": "khGy-ptlkcQB"
      },
      "execution_count": null,
      "outputs": []
    }
  ]
}